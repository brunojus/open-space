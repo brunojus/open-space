{
 "cells": [
  {
   "cell_type": "markdown",
   "id": "619bf8da",
   "metadata": {},
   "source": [
    "# Step 0: Import All Libraries"
   ]
  },
  {
   "cell_type": "code",
   "execution_count": 1,
   "id": "bc8a6fa8",
   "metadata": {},
   "outputs": [],
   "source": [
    "import socket\n",
    "import nmap\n",
    "from prettytable import PrettyTable\n",
    "import pandas as pd"
   ]
  },
  {
   "cell_type": "markdown",
   "id": "97f654ee",
   "metadata": {},
   "source": [
    "# Step 1: Define the Target and Ports"
   ]
  },
  {
   "cell_type": "code",
   "execution_count": 2,
   "id": "3f5d1872",
   "metadata": {},
   "outputs": [
    {
     "name": "stdout",
     "output_type": "stream",
     "text": [
      "Enter the target IP address: 127.0.0.1\n",
      "Enter the range of ports (comma-separated): 443, 22, 80, 8888, 42, 8000, 111\n"
     ]
    }
   ],
   "source": [
    "target = input(\"Enter the target IP address: \")\n",
    "ports = list(map(int, input(\"Enter the range of ports (comma-separated): \").split(',')))"
   ]
  },
  {
   "cell_type": "code",
   "execution_count": 66,
   "id": "0b5d8f75",
   "metadata": {},
   "outputs": [],
   "source": [
    "# python -m http.server 80"
   ]
  },
  {
   "cell_type": "markdown",
   "id": "c30374ec",
   "metadata": {},
   "source": [
    "# Step 2: Scan Ports\n"
   ]
  },
  {
   "cell_type": "code",
   "execution_count": 64,
   "id": "738ca7c0",
   "metadata": {},
   "outputs": [],
   "source": [
    "def scan_port(target, port):\n",
    "    try:\n",
    "        sock = socket.socket(socket.AF_INET, socket.SOCK_STREAM)\n",
    "        sock.settimeout(1)\n",
    "        sock.connect((target, port))\n",
    "        return True\n",
    "    except:\n",
    "        return False"
   ]
  },
  {
   "cell_type": "markdown",
   "id": "fc269ee4",
   "metadata": {},
   "source": [
    "# Step 3: Identify Services"
   ]
  },
  {
   "cell_type": "code",
   "execution_count": 31,
   "id": "e2707eab",
   "metadata": {},
   "outputs": [],
   "source": [
    "def identify_service(target, port):\n",
    "    scanner = nmap.PortScanner()\n",
    "    results = scanner.scan(target, arguments='-sV -p '+str(port))\n",
    "    service = results['scan'][target]['tcp'][port]['name']\n",
    "    return service"
   ]
  },
  {
   "cell_type": "markdown",
   "id": "597d4558",
   "metadata": {},
   "source": [
    "# Step 4: Tabulate Results"
   ]
  },
  {
   "cell_type": "code",
   "execution_count": 32,
   "id": "fad3ab2b",
   "metadata": {},
   "outputs": [],
   "source": [
    "table = PrettyTable([\"Port\", \"Status\", \"Service\"])"
   ]
  },
  {
   "cell_type": "markdown",
   "id": "fe05249f",
   "metadata": {},
   "source": [
    "# Step 5: Implement Scanning and Service Identification"
   ]
  },
  {
   "cell_type": "code",
   "execution_count": 36,
   "id": "91f5103d",
   "metadata": {},
   "outputs": [],
   "source": [
    "for port in ports:\n",
    "    result = scan_port(target, port)\n",
    "    if result:\n",
    "        service = identify_service(target, port)\n",
    "        table.add_row([port, \"Open\", service])\n",
    "    else:\n",
    "        table.add_row([port, \"Closed\", \"N/A\"])"
   ]
  },
  {
   "cell_type": "markdown",
   "id": "5d076b48",
   "metadata": {},
   "source": [
    "# Step 6: Default Text File Output"
   ]
  },
  {
   "cell_type": "code",
   "execution_count": 37,
   "id": "dbb284b4",
   "metadata": {},
   "outputs": [
    {
     "name": "stdout",
     "output_type": "stream",
     "text": [
      "+------+--------+---------+\n",
      "| Port | Status | Service |\n",
      "+------+--------+---------+\n",
      "|  22  |  Open  |   ssh   |\n",
      "|  80  | Closed |   N/A   |\n",
      "|  25  | Closed |   N/A   |\n",
      "| 443  | Closed |   N/A   |\n",
      "|  22  |  Open  |   ssh   |\n",
      "| 111  | Closed |   N/A   |\n",
      "| 8888 |  Open  |   http  |\n",
      "| 443  | Closed |   N/A   |\n",
      "|  22  |  Open  |   ssh   |\n",
      "|  80  |  Open  |   http  |\n",
      "| 8888 |  Open  |   http  |\n",
      "|  42  | Closed |   N/A   |\n",
      "| 8000 | Closed |   N/A   |\n",
      "| 111  | Closed |   N/A   |\n",
      "+------+--------+---------+\n"
     ]
    }
   ],
   "source": [
    "print(table)\n",
    "\n",
    "# Save the table to a text file\n",
    "with open('output.txt', 'w') as f:\n",
    "    f.write(str(table))"
   ]
  },
  {
   "cell_type": "markdown",
   "id": "33f67f98",
   "metadata": {},
   "source": [
    "# Step 7: Optional CSV Output"
   ]
  },
  {
   "cell_type": "code",
   "execution_count": 14,
   "id": "1d78094e",
   "metadata": {},
   "outputs": [
    {
     "name": "stdout",
     "output_type": "stream",
     "text": [
      "Would you like to save the output to a CSV file? (yes/no) yes\n"
     ]
    }
   ],
   "source": [
    "# Check if the user wants to save output to a CSV file\n",
    "csv_output = input(\"Would you like to save the output to a CSV file? (yes/no) \")\n",
    "\n",
    "if csv_output.lower() == 'yes':\n",
    "    df = pd.DataFrame(table.get_string().split('\\n'))\n",
    "    df.to_csv('output.csv', index=False)"
   ]
  },
  {
   "cell_type": "markdown",
   "id": "d1ccc996",
   "metadata": {},
   "source": [
    "# Bonus"
   ]
  },
  {
   "cell_type": "code",
   "execution_count": 22,
   "id": "4d648c4b",
   "metadata": {},
   "outputs": [],
   "source": [
    "import nmap"
   ]
  },
  {
   "cell_type": "code",
   "execution_count": 27,
   "id": "c110dbb6",
   "metadata": {},
   "outputs": [],
   "source": [
    "nm = nmap.PortScanner()"
   ]
  },
  {
   "cell_type": "code",
   "execution_count": 56,
   "id": "e03f81ff",
   "metadata": {},
   "outputs": [
    {
     "data": {
      "text/plain": [
       "{'nmap': {'command_line': 'nmap -oX - -p 80,22,5432 -sV 127.0.0.1',\n",
       "  'scaninfo': {'tcp': {'method': 'connect', 'services': '22,80,5432'}},\n",
       "  'scanstats': {'timestr': 'Tue Nov  7 09:01:23 2023',\n",
       "   'elapsed': '6.25',\n",
       "   'uphosts': '1',\n",
       "   'downhosts': '0',\n",
       "   'totalhosts': '1'}},\n",
       " 'scan': {'127.0.0.1': {'hostnames': [{'name': 'localhost', 'type': 'PTR'}],\n",
       "   'addresses': {'ipv4': '127.0.0.1'},\n",
       "   'vendor': {},\n",
       "   'status': {'state': 'up', 'reason': 'syn-ack'},\n",
       "   'tcp': {22: {'state': 'open',\n",
       "     'reason': 'syn-ack',\n",
       "     'name': 'ssh',\n",
       "     'product': 'OpenSSH',\n",
       "     'version': '9.3',\n",
       "     'extrainfo': 'protocol 2.0',\n",
       "     'conf': '10',\n",
       "     'cpe': 'cpe:/a:openbsd:openssh:9.3'},\n",
       "    80: {'state': 'open',\n",
       "     'reason': 'syn-ack',\n",
       "     'name': 'http',\n",
       "     'product': 'SimpleHTTPServer',\n",
       "     'version': '0.6',\n",
       "     'extrainfo': 'Python 3.10.11',\n",
       "     'conf': '10',\n",
       "     'cpe': 'cpe:/a:python:simplehttpserver:0.6'},\n",
       "    5432: {'state': 'open',\n",
       "     'reason': 'syn-ack',\n",
       "     'name': 'postgresql',\n",
       "     'product': 'PostgreSQL DB',\n",
       "     'version': '9.6.0 or later',\n",
       "     'extrainfo': '',\n",
       "     'conf': '10',\n",
       "     'cpe': 'cpe:/a:postgresql:postgresql'}}}}}"
      ]
     },
     "execution_count": 56,
     "metadata": {},
     "output_type": "execute_result"
    }
   ],
   "source": [
    "nm.scan('127.0.0.1', '80,22,5432')"
   ]
  },
  {
   "cell_type": "code",
   "execution_count": 49,
   "id": "cbf3d3e0",
   "metadata": {},
   "outputs": [
    {
     "data": {
      "text/plain": [
       "'nmap -oX - -p 80,5432 -sV 127.0.0.1'"
      ]
     },
     "execution_count": 49,
     "metadata": {},
     "output_type": "execute_result"
    }
   ],
   "source": [
    "nm.command_line()"
   ]
  },
  {
   "cell_type": "code",
   "execution_count": 60,
   "id": "d1d5f281",
   "metadata": {},
   "outputs": [
    {
     "data": {
      "text/plain": [
       "{'tcp': {'method': 'connect', 'services': '22,80,5432'}}"
      ]
     },
     "execution_count": 60,
     "metadata": {},
     "output_type": "execute_result"
    }
   ],
   "source": [
    "nm.scaninfo()"
   ]
  },
  {
   "cell_type": "code",
   "execution_count": 61,
   "id": "28bfa355",
   "metadata": {},
   "outputs": [
    {
     "data": {
      "text/plain": [
       "['127.0.0.1']"
      ]
     },
     "execution_count": 61,
     "metadata": {},
     "output_type": "execute_result"
    }
   ],
   "source": [
    "nm.all_hosts()"
   ]
  },
  {
   "cell_type": "code",
   "execution_count": 62,
   "id": "63b44211",
   "metadata": {},
   "outputs": [
    {
     "data": {
      "text/plain": [
       "'localhost'"
      ]
     },
     "execution_count": 62,
     "metadata": {},
     "output_type": "execute_result"
    }
   ],
   "source": [
    "nm['127.0.0.1'].hostname()"
   ]
  },
  {
   "cell_type": "code",
   "execution_count": 53,
   "id": "b1dc0fee",
   "metadata": {},
   "outputs": [
    {
     "data": {
      "text/plain": [
       "'up'"
      ]
     },
     "execution_count": 53,
     "metadata": {},
     "output_type": "execute_result"
    }
   ],
   "source": [
    "nm['127.0.0.1'].state()"
   ]
  },
  {
   "cell_type": "code",
   "execution_count": 59,
   "id": "19b6245b",
   "metadata": {},
   "outputs": [
    {
     "data": {
      "text/plain": [
       "['tcp']"
      ]
     },
     "execution_count": 59,
     "metadata": {},
     "output_type": "execute_result"
    }
   ],
   "source": [
    "nm['127.0.0.1'].all_protocols()"
   ]
  },
  {
   "cell_type": "code",
   "execution_count": 58,
   "id": "c8996c1f",
   "metadata": {},
   "outputs": [
    {
     "data": {
      "text/plain": [
       "dict_keys([22, 80, 5432])"
      ]
     },
     "execution_count": 58,
     "metadata": {},
     "output_type": "execute_result"
    }
   ],
   "source": [
    "nm['127.0.0.1']['tcp'].keys()"
   ]
  },
  {
   "cell_type": "code",
   "execution_count": null,
   "id": "35ca0a4e",
   "metadata": {},
   "outputs": [],
   "source": []
  }
 ],
 "metadata": {
  "kernelspec": {
   "display_name": "Python 3 (ipykernel)",
   "language": "python",
   "name": "python3"
  },
  "language_info": {
   "codemirror_mode": {
    "name": "ipython",
    "version": 3
   },
   "file_extension": ".py",
   "mimetype": "text/x-python",
   "name": "python",
   "nbconvert_exporter": "python",
   "pygments_lexer": "ipython3",
   "version": "3.10.11"
  }
 },
 "nbformat": 4,
 "nbformat_minor": 5
}
